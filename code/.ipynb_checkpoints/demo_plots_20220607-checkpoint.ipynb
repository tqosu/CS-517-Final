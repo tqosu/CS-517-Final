{
 "cells": [
  {
   "cell_type": "code",
   "execution_count": 2,
   "id": "7f8908b0-c206-4205-a9c5-60009cd6f4cb",
   "metadata": {},
   "outputs": [],
   "source": [
    "import numpy as np\n",
    "from pysat.solvers import Glucose3\n",
    "from collections import defaultdict\n",
    "import time\n",
    "import os\n",
    "import torch\n",
    "import matplotlib.pyplot as plt\n",
    "from matplotlib.ticker import MaxNLocator\n"
   ]
  },
  {
   "cell_type": "code",
   "execution_count": 162,
   "id": "3f806227-c861-4667-9316-20098a50e1df",
   "metadata": {},
   "outputs": [],
   "source": [
    "def check_mkdir(dir_name):\n",
    "    if not os.path.exists(dir_name):\n",
    "        os.mkdir(dir_name)\n",
    "        \n",
    "def get_data(folder_path='outputs20220531_new', nums = [22, 24, 26, 28, 30, 32], data_type=\"H\"):\n",
    "    data = []\n",
    "    data_paths = [os.path.join(folder_path, str(i)+\"_\"+data_type+\".pt\") for i in nums]\n",
    "    for path in data_paths:\n",
    "        if os.path.isfile(path): \n",
    "            # print(path)\n",
    "            one_data = torch.load(path)\n",
    "            data.extend(one_data)\n",
    "            # print(len(one_data))\n",
    "            \n",
    "    num_nodes = np.array([ele[0] for ele in data], dtype=np.int64)\n",
    "    num_edges = np.array([ele[1] for ele in data], dtype=np.int64)\n",
    "    num_max_dofds = np.array([ele[3] for ele in data], dtype=np.int64)\n",
    "    num_ave_dofds = np.array([ele[3] for ele in data], dtype=np.int64)\n",
    "    \n",
    "    num_clauses = np.array([ele[-2] for ele in data])\n",
    "    run_times = np.array([ele[-1] for ele in data])\n",
    "    return [num_nodes, num_edges, num_max_dofds, num_ave_dofds, num_clauses, run_times]\n",
    "# datas = get_data()\n",
    "\n",
    "def draw_fig(num_nodes, run_times, x_type=\"number of nodes\", y_type=\"averaged running time\",data_type=\"H\", output_img_path=None):\n",
    "    num_nodes1 = np.unique(num_nodes, return_counts=True)[0]\n",
    "    num_nodes2 = np.unique(num_nodes, return_counts=True)[1]\n",
    "    # ave_run_times = [sum(run_times[num_nodes==ele1])/(ele2+1e-8) for ele1,ele2  in zip(num_nodes1, num_nodes2)]\n",
    "    ave_run_times, std_run_times = [], []\n",
    "    for ele1, ele2 in zip(num_nodes1, num_nodes2):\n",
    "        vals = run_times[num_nodes == ele1]\n",
    "        aveT = sum(vals)/(ele2 + 1e-8)\n",
    "        stdT = np.sqrt(sum((vals - aveT)*(vals - aveT))/(len(vals)+1e-8))\n",
    "        \n",
    "        # if ele1 == 30:\n",
    "        #     print(vals)\n",
    "        #     print(aveT)\n",
    "        #     print(stdT)\n",
    "        # break\n",
    "        ave_run_times.append(aveT)\n",
    "        std_run_times.append(stdT)\n",
    "    # print(num_nodes)\n",
    "    ave_run_times = np.array(ave_run_times)\n",
    "    std_run_times = np.array(std_run_times)\n",
    "    # print(ave_run_times)\n",
    "    # print(std_run_times)\n",
    "    # print(num_nodes1)\n",
    "    plt.plot(num_nodes1, ave_run_times, color='blue', alpha=1.0)\n",
    "    plt.fill_between(num_nodes1, ave_run_times+std_run_times, ave_run_times-std_run_times, facecolor='blue', alpha=0.3)\n",
    "    plt.title(\"{} vs {} in {} graph\".format(x_type, y_type, data_type))\n",
    "    plt.xlabel(x_type)\n",
    "    plt.ylabel(y_type)\n",
    "    # plt.xaxis.set_major_locator(MaxNLocator(integer=True))\n",
    "    # if max(num_nodes1) < 100:\n",
    "    #     plt.xticks(num_nodes1)\n",
    "    if output_img_path is not None:\n",
    "        plt.savefig(output_img_path)\n",
    "    plt.show()"
   ]
  },
  {
   "cell_type": "code",
   "execution_count": 163,
   "id": "d6bbb324-38ab-464a-bcd0-ac3735cd4bdf",
   "metadata": {},
   "outputs": [],
   "source": [
    "def draw_save_fig(folder_path0='outputs20220531', \n",
    "                  folder_path1='outputs20220531_new', \n",
    "                  img_output_folder=\"imgs20220605\",\n",
    "                  data_type=\"H\", \n",
    "                  idx=0, \n",
    "                  jdx=-1,\n",
    "                  y_type=\"averaged running time\",\n",
    "                  data_range=0,\n",
    "                  save_fig=True,\n",
    "                  nums0 = [4, 6, 8, 10, 12, 14, 16, 18, 20],\n",
    "                  nums  = [22, 24, 26, 28, 30, 32]):\n",
    "    \"\"\"\n",
    "    data_range: 0: only the original data\n",
    "                1: only the new data\n",
    "                2: all the data\n",
    "    \"\"\"\n",
    "    \n",
    "    x_types = [\"number of nodes\", \"number of edges\", \"max degree of freedons\", \"ave degree of freedons\", \"number of clauses\"]\n",
    "    \n",
    "    \n",
    "    data_ranges=[\"4-20\", \"22-32\", \"4-32\"]\n",
    "    if data_range==0:\n",
    "        data = get_data(folder_path=folder_path1, nums=nums, data_type=data_type)\n",
    "    elif data_range==1:\n",
    "        data = get_data(folder_path=folder_path0, nums=nums0, data_type=data_type)\n",
    "    else:\n",
    "        data  = get_data(folder_path=folder_path1, nums=nums, data_type=data_type)\n",
    "        data0 = get_data(folder_path=folder_path0, nums=nums0, data_type=data_type)\n",
    "        data = [np.concatenate((a, b)) for a, b in zip(data, data0)]\n",
    "    x_types = [\"number of nodes\", \"number of edges\", \"max degree of freedons\", \"ave degree of freedons\", \"number of clauses\"]\n",
    "    print(data[idx][:10])\n",
    "    if save_fig:\n",
    "        check_mkdir(img_output_folder)\n",
    "        output_img_path = os.path.join(img_output_folder, \"{}_{}_{}.png\".format(data_ranges[data_range], x_types[idx], data_type).replace(\" \", \"_\"))\n",
    "    else:\n",
    "        output_img_path = None\n",
    "    draw_fig(data[idx], data[jdx], x_type=x_types[idx], y_type=y_type, data_type=data_type, output_img_path=output_img_path)"
   ]
  },
  {
   "cell_type": "code",
   "execution_count": 105,
   "id": "5cfe4efd-4020-455a-83a0-7e6efcd0decb",
   "metadata": {},
   "outputs": [
    {
     "name": "stdout",
     "output_type": "stream",
     "text": [
      "[5 5 5 5 5 5 5 5 5 5]\n"
     ]
    },
    {
     "data": {
      "image/png": "[encoded data removed]",
      "text/plain": [
       "<Figure size 432x288 with 1 Axes>"
      ]
     },
     "metadata": {
      "needs_background": "light"
     },
     "output_type": "display_data"
    }
   ],
   "source": [
    "draw_save_fig(folder_path1='outputs20220608', data_type='H',idx=2, data_range=0, save_fig=False, nums=[20])"
   ]
  }
 ],
 "metadata": {
  "kernelspec": {
   "display_name": "Python 3 (ipykernel)",
   "language": "python",
   "name": "python3"
  },
  "language_info": {
   "codemirror_mode": {
    "name": "ipython",
    "version": 3
   },
   "file_extension": ".py",
   "mimetype": "text/x-python",
   "name": "python",
   "nbconvert_exporter": "python",
   "pygments_lexer": "ipython3",
   "version": "3.8.12"
  }
 },
 "nbformat": 4,
 "nbformat_minor": 5
}
